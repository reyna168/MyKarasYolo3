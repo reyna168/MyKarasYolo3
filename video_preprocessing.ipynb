{
 "cells": [
  {
   "cell_type": "code",
   "execution_count": 20,
   "metadata": {},
   "outputs": [],
   "source": [
    "import numpy\n",
    "import cv2 \n",
    "cap = cv2.VideoCapture('test2_o2.mp4') \n",
    "fourcc = cv2.VideoWriter_fourcc(*'mp4v') #writing format\n",
    "fps =int(cap.get(cv2.CAP_PROP_FPS)) #input frame number\n",
    "#size = (int(cap.get(cv2.CAP_PROP_FRAME_WIDTH)),int(cap.get(cv2.CAP_PROP_FRAME_HEIGHT)))\n",
    "size = (416,416) #fixed output size\n",
    "out = cv2.VideoWriter('test2c.mp4', fourcc, 30.0, (size))"
   ]
  },
  {
   "cell_type": "code",
   "execution_count": 21,
   "metadata": {
    "scrolled": false
   },
   "outputs": [],
   "source": [
    "while(cap.isOpened()):\n",
    "    ret, image = cap.read()\n",
    "    while ret ==  True:\n",
    "        cropXCenter=image.shape[1]*0.5\n",
    "        cropYCenter=image.shape[0]*0.5\n",
    "        cropXValue=416\n",
    "        cropYValue=416\n",
    "        cropped_image1= image[int(cropXCenter-cropXValue*0.5):int(cropXCenter+cropXValue*0.5),int(cropYCenter-cropYValue*0.5):int(cropYCenter+cropYValue*0.5)]        \n",
    "        image= cv2.resize(cropped_image1,(size),interpolation= cv2.INTER_AREA)\n",
    "        cv2.imshow('frame', image)\n",
    "        out.write(image)\n",
    "        ret, image = cap.read()\n",
    "        if cv2.waitKey(fps) & 0xFF == ord('q'):\n",
    "            break\n",
    "    else:\n",
    "        break\n",
    "cap.release()\n",
    "out.release()\n",
    "cv2.destroyAllWindows()"
   ]
  },
  {
   "cell_type": "code",
   "execution_count": null,
   "metadata": {},
   "outputs": [],
   "source": [
    "cv2.destroyAllWindows()"
   ]
  }
 ],
 "metadata": {
  "kernelspec": {
   "display_name": "Python 3",
   "language": "python",
   "name": "python3"
  },
  "language_info": {
   "codemirror_mode": {
    "name": "ipython",
    "version": 3
   },
   "file_extension": ".py",
   "mimetype": "text/x-python",
   "name": "python",
   "nbconvert_exporter": "python",
   "pygments_lexer": "ipython3",
   "version": "3.7.4"
  }
 },
 "nbformat": 4,
 "nbformat_minor": 2
}
