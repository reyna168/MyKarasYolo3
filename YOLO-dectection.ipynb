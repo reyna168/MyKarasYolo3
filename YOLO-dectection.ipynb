{
 "cells": [
  {
   "cell_type": "code",
   "execution_count": 1,
   "metadata": {},
   "outputs": [
    {
     "name": "stderr",
     "output_type": "stream",
     "text": [
      "Using TensorFlow backend.\n"
     ]
    }
   ],
   "source": [
    "import sys\n",
    "import argparse\n",
    "from yolo import YOLO, detect_video\n",
    "from PIL import Image\n",
    "import io"
   ]
  },
  {
   "cell_type": "code",
   "execution_count": null,
   "metadata": {},
   "outputs": [],
   "source": [
    "FLAGS = None\n",
    "model_path =''\n",
    "anchors_path=''\n",
    "classes_path=''\n",
    "gpu_num =0\n",
    "input_video_path=''\n",
    "\n",
    "FLAGS = os.path.exists(input_video_path)\n",
    "\n",
    "if FLAGS.image:\n",
    "        \"\"\"\n",
    "        Image detection mode, disregard any remaining command line arguments\n",
    "        \"\"\"\n",
    "    print(\"Image detection mode\")\n",
    "    if \"input\" in FLAGS:\n",
    "        print(\" Ignoring remaining command line arguments: \" + FLAGS.input + \",\" + FLAGS.output)\n",
    "    detect_img(YOLO(**vars(FLAGS)))\n",
    "#elif \"input\" in FLAGS:\n",
    "    #detect_video(YOLO(**vars(FLAGS)), FLAGS.input, FLAGS.output)\n",
    "else:\n",
    "    print(\"Must specify at least video_input_path.  See usage with --help.\")\n",
    "\n"
   ]
  },
  {
   "cell_type": "code",
   "execution_count": null,
   "metadata": {},
   "outputs": [],
   "source": [
    "def detect_img(yolo):\n",
    "    while True:\n",
    "        img = input('Input image filename:')\n",
    "        try:\n",
    "            image = Image.open(img)\n",
    "        except:\n",
    "            print('Open Error! Try again!')\n",
    "            continue\n",
    "        else:\n",
    "            r_image = yolo.detect_image(image)\n",
    "            r_image.show()\n",
    "    yolo.close_session()"
   ]
  },
  {
   "cell_type": "code",
   "execution_count": null,
   "metadata": {},
   "outputs": [],
   "source": []
  }
 ],
 "metadata": {
  "kernelspec": {
   "display_name": "Python 3",
   "language": "python",
   "name": "python3"
  },
  "language_info": {
   "codemirror_mode": {
    "name": "ipython",
    "version": 3
   },
   "file_extension": ".py",
   "mimetype": "text/x-python",
   "name": "python",
   "nbconvert_exporter": "python",
   "pygments_lexer": "ipython3",
   "version": "3.7.4"
  }
 },
 "nbformat": 4,
 "nbformat_minor": 2
}
